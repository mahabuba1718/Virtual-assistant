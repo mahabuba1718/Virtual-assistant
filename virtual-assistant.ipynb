{
 "cells": [
  {
   "cell_type": "code",
   "execution_count": 1,
   "metadata": {},
   "outputs": [
    {
     "name": "stdout",
     "output_type": "stream",
     "text": [
      "Requirement already satisfied: SpeechRecognition in c:\\users\\act\\anaconda3\\lib\\site-packages (3.8.1)\n",
      "Note: you may need to restart the kernel to use updated packages.\n"
     ]
    }
   ],
   "source": [
    "pip install SpeechRecognition"
   ]
  },
  {
   "cell_type": "code",
   "execution_count": 2,
   "metadata": {},
   "outputs": [
    {
     "name": "stdout",
     "output_type": "stream",
     "text": [
      "Requirement already satisfied: SpeechRecognition in c:\\users\\act\\anaconda3\\lib\\site-packages (3.8.1)Note: you may need to restart the kernel to use updated packages.\n",
      "\n"
     ]
    }
   ],
   "source": [
    "pip install SpeechRecognition"
   ]
  },
  {
   "cell_type": "code",
   "execution_count": 6,
   "metadata": {},
   "outputs": [
    {
     "name": "stdout",
     "output_type": "stream",
     "text": [
      "Collecting package metadata (current_repodata.json): ...working... done\n",
      "Solving environment: ...working... done\n",
      "\n",
      "# All requested packages already installed.\n",
      "\n",
      "\n",
      "Note: you may need to restart the kernel to use updated packages.\n"
     ]
    }
   ],
   "source": [
    "\n",
    "conda install -c anaconda pyaudio"
   ]
  },
  {
   "cell_type": "code",
   "execution_count": 4,
   "metadata": {},
   "outputs": [
    {
     "name": "stdout",
     "output_type": "stream",
     "text": [
      "Requirement already satisfied: pywhatkit in c:\\users\\act\\anaconda3\\lib\\site-packages (4.1)\n",
      "Requirement already satisfied: requests in c:\\users\\act\\anaconda3\\lib\\site-packages (from pywhatkit) (2.24.0)\n",
      "Requirement already satisfied: wikipedia in c:\\users\\act\\anaconda3\\lib\\site-packages (from pywhatkit) (1.4.0)\n",
      "Requirement already satisfied: Pillow in c:\\users\\act\\anaconda3\\lib\\site-packages (from pywhatkit) (8.0.1)\n",
      "Requirement already satisfied: pyautogui in c:\\users\\act\\anaconda3\\lib\\site-packages (from pywhatkit) (0.9.52)\n",
      "Note: you may need to restart the kernel to use updated packages.\n",
      "Requirement already satisfied: certifi>=2017.4.17 in c:\\users\\act\\anaconda3\\lib\\site-packages (from requests->pywhatkit) (2020.6.20)\n",
      "Requirement already satisfied: urllib3!=1.25.0,!=1.25.1,<1.26,>=1.21.1 in c:\\users\\act\\anaconda3\\lib\\site-packages (from requests->pywhatkit) (1.25.11)\n",
      "Requirement already satisfied: chardet<4,>=3.0.2 in c:\\users\\act\\anaconda3\\lib\\site-packages (from requests->pywhatkit) (3.0.4)\n",
      "Requirement already satisfied: idna<3,>=2.5 in c:\\users\\act\\anaconda3\\lib\\site-packages (from requests->pywhatkit) (2.10)\n",
      "Requirement already satisfied: beautifulsoup4 in c:\\users\\act\\anaconda3\\lib\\site-packages (from wikipedia->pywhatkit) (4.9.3)\n",
      "Requirement already satisfied: mouseinfo in c:\\users\\act\\anaconda3\\lib\\site-packages (from pyautogui->pywhatkit) (0.1.3)\n",
      "Requirement already satisfied: pygetwindow>=0.0.5 in c:\\users\\act\\anaconda3\\lib\\site-packages (from pyautogui->pywhatkit) (0.0.9)\n",
      "Requirement already satisfied: pyscreeze>=0.1.21 in c:\\users\\act\\anaconda3\\lib\\site-packages (from pyautogui->pywhatkit) (0.1.27)\n",
      "Requirement already satisfied: pymsgbox in c:\\users\\act\\anaconda3\\lib\\site-packages (from pyautogui->pywhatkit) (1.0.9)\n",
      "Requirement already satisfied: PyTweening>=1.0.1 in c:\\users\\act\\anaconda3\\lib\\site-packages (from pyautogui->pywhatkit) (1.0.3)\n",
      "Requirement already satisfied: soupsieve>1.2; python_version >= \"3.0\" in c:\\users\\act\\anaconda3\\lib\\site-packages (from beautifulsoup4->wikipedia->pywhatkit) (2.0.1)\n",
      "Requirement already satisfied: pyperclip in c:\\users\\act\\anaconda3\\lib\\site-packages (from mouseinfo->pyautogui->pywhatkit) (1.8.2)\n",
      "Requirement already satisfied: pyrect in c:\\users\\act\\anaconda3\\lib\\site-packages (from pygetwindow>=0.0.5->pyautogui->pywhatkit) (0.1.4)\n"
     ]
    }
   ],
   "source": [
    "pip install pywhatkit"
   ]
  },
  {
   "cell_type": "code",
   "execution_count": 7,
   "metadata": {},
   "outputs": [
    {
     "name": "stdout",
     "output_type": "stream",
     "text": [
      "Requirement already satisfied: pyjokes in c:\\users\\act\\anaconda3\\lib\\site-packages (0.6.0)\n",
      "Note: you may need to restart the kernel to use updated packages.\n"
     ]
    }
   ],
   "source": [
    "pip install pyjokes"
   ]
  },
  {
   "cell_type": "code",
   "execution_count": 20,
   "metadata": {},
   "outputs": [
    {
     "name": "stdout",
     "output_type": "stream",
     "text": [
      "I am listening , please speak...\n"
     ]
    }
   ],
   "source": [
    "import speech_recognition as sr\n",
    "import pyttsx3\n",
    "import datetime\n",
    "import pywhatkit\n",
    "import wikipedia\n",
    "\n",
    "\n",
    "listener = sr.Recognizer()\n",
    "siri = pyttsx3.init()\n",
    "\n",
    "voices = siri.getProperty('voices')\n",
    "siri.setProperty('voice', voices[1].id)\n",
    "\n",
    "def talk(text):\n",
    "    siri.say(text)\n",
    "    siri.runAndWait()\n",
    "\n",
    "def take_command():\n",
    "    \n",
    "    try:\n",
    "        with sr.Microphone() as source:\n",
    "            print('I am listening , please speak...')\n",
    "            talk('Yes , how can i help you?')\n",
    "            voice = listener.listen(source)\n",
    "            command = listener.recognize_google(voice)\n",
    "            command = command.lower()\n",
    "            if 'siri' in command:\n",
    "                command = command.replace('siri', '')\n",
    "    except:   \n",
    "        pass\n",
    "    return command\n",
    "\n",
    "def run_siri():\n",
    "    command = take_command()\n",
    "    \n",
    "    if 'time' in command:\n",
    "        time = datetime.datetime.now().strftime('%I:%M %p')\n",
    "        print('Current time is ' + time)\n",
    "        talk('Current time is ' + time)\n",
    "    elif 'play' in command:\n",
    "        song = command.replace('play', '')\n",
    "        talk('playing ' + song)\n",
    "        pywhatkit.playonyt(song)\n",
    "    elif 'tell me about' in command:\n",
    "        wiki = command.replace('tell me about', '')\n",
    "        info = wikipedia.summary(wiki, 2)\n",
    "        print(info)\n",
    "        talk(info)\n",
    "    else:\n",
    "        talk('Sorry I did not get your question, I can search it from google')\n",
    "        pywhatkit.search(command)\n",
    "             \n",
    "        \n",
    "run_siri()"
   ]
  },
  {
   "cell_type": "code",
   "execution_count": null,
   "metadata": {},
   "outputs": [],
   "source": []
  },
  {
   "cell_type": "code",
   "execution_count": null,
   "metadata": {},
   "outputs": [],
   "source": []
  }
 ],
 "metadata": {
  "kernelspec": {
   "display_name": "Python 3",
   "language": "python",
   "name": "python3"
  },
  "language_info": {
   "codemirror_mode": {
    "name": "ipython",
    "version": 3
   },
   "file_extension": ".py",
   "mimetype": "text/x-python",
   "name": "python",
   "nbconvert_exporter": "python",
   "pygments_lexer": "ipython3",
   "version": "3.8.5"
  }
 },
 "nbformat": 4,
 "nbformat_minor": 4
}
